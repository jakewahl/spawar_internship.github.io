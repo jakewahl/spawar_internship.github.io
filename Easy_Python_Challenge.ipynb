{
 "metadata": {
  "name": ""
 },
 "nbformat": 3,
 "nbformat_minor": 0,
 "worksheets": [
  {
   "cells": [
    {
     "cell_type": "code",
     "collapsed": false,
     "input": [
      "lst = [0, 1, 2, 3, 4]\n",
      "def sum_list(jake):\n",
      "    sum = 0\n",
      "    for x in jake:\n",
      "        sum = sum + x\n",
      "    return sum\n",
      "print sum_list(lst)\n",
      "    \n",
      "    "
     ],
     "language": "python",
     "metadata": {},
     "outputs": [
      {
       "output_type": "stream",
       "stream": "stdout",
       "text": [
        "10\n"
       ]
      }
     ],
     "prompt_number": 3
    },
    {
     "cell_type": "code",
     "collapsed": false,
     "input": [
      "b = ''\n",
      "l = ['h', 'e', 'l', 'l', 'o','h', 'e', 'l', 'l', 'o','h', 'e', 'l', 'l', 'o','h', 'e', 'l', 'l', 'o','h', 'e', 'l', 'l', 'o','h', 'e', 'l', 'l', 'o','h', 'e', 'l', 'l', 'o','h', 'e', 'l', 'l', 'o','h', 'e', 'l', 'l', 'o',]\n",
      "for x in l:\n",
      "    b = b + x\n",
      "    \n",
      "def combo_list(character_list):\n",
      "    word = ''\n",
      "    for char in character_list: \n",
      "        word += char\n",
      "    return word\n",
      "    \n",
      "print combo_list(l)"
     ],
     "language": "python",
     "metadata": {},
     "outputs": [
      {
       "output_type": "stream",
       "stream": "stdout",
       "text": [
        "hellohellohellohellohellohellohellohellohello\n"
       ]
      }
     ],
     "prompt_number": 57
    },
    {
     "cell_type": "code",
     "collapsed": false,
     "input": [
      "x = dict()\n",
      "\n",
      "for y in range(1,27):\n",
      "    x[y]=chr(y + 96)\n",
      "print x"
     ],
     "language": "python",
     "metadata": {},
     "outputs": [
      {
       "output_type": "stream",
       "stream": "stdout",
       "text": [
        "{1: 'a', 2: 'b', 3: 'c', 4: 'd', 5: 'e', 6: 'f', 7: 'g', 8: 'h', 9: 'i', 10: 'j', 11: 'k', 12: 'l', 13: 'm', 14: 'n', 15: 'o', 16: 'p', 17: 'q', 18: 'r', 19: 's', 20: 't', 21: 'u', 22: 'v', 23: 'w', 24: 'x', 25: 'y', 26: 'z'}\n"
       ]
      }
     ],
     "prompt_number": 55
    },
    {
     "cell_type": "code",
     "collapsed": false,
     "input": [
      "d = {'key1': ['h', 'e', 'l', 'l', 'o'] , 'key2': ['w', 'o', 'r', 'l', 'd']}\n",
      "print combo_list(d['key1']) + ' ' + combo_list(d['key2'])"
     ],
     "language": "python",
     "metadata": {},
     "outputs": [
      {
       "output_type": "stream",
       "stream": "stdout",
       "text": [
        "hello world\n"
       ]
      }
     ],
     "prompt_number": 60
    },
    {
     "cell_type": "code",
     "collapsed": false,
     "input": [
      "def factorial(n):\n",
      "    number = 1\n",
      "    for x in range(1,n+1):\n",
      "        number = number*x \n",
      "    return number\n",
      "    \n",
      "    \n",
      "print factorial(5)"
     ],
     "language": "python",
     "metadata": {},
     "outputs": [
      {
       "output_type": "stream",
       "stream": "stdout",
       "text": [
        "120\n"
       ]
      }
     ],
     "prompt_number": 64
    },
    {
     "cell_type": "code",
     "collapsed": false,
     "input": [
      "def factorial_r(n):\n",
      "    if n > 1:\n",
      "        return n*factorial_r(n-1)\n",
      "    else:\n",
      "        return 1\n",
      "print factorial_r(3)\n"
     ],
     "language": "python",
     "metadata": {},
     "outputs": [
      {
       "output_type": "stream",
       "stream": "stdout",
       "text": [
        "6\n"
       ]
      }
     ],
     "prompt_number": 66
    },
    {
     "cell_type": "code",
     "collapsed": false,
     "input": [
      "def add_nums(n):\n",
      "    number = 0\n",
      "    for x in range (1,n+1):\n",
      "        number = number + x\n",
      "    return number\n",
      "\n",
      "print add_nums(4)\n",
      "    "
     ],
     "language": "python",
     "metadata": {},
     "outputs": [
      {
       "output_type": "stream",
       "stream": "stdout",
       "text": [
        "10\n"
       ]
      }
     ],
     "prompt_number": 68
    },
    {
     "cell_type": "code",
     "collapsed": false,
     "input": [
      "def fraction_add(n):\n",
      "    if n >= 0.00000000001:\n",
      "        return n + fraction_add(.5*n)\n",
      "    else: \n",
      "        return n\n",
      "\n",
      "print fraction_add(.5)"
     ],
     "language": "python",
     "metadata": {},
     "outputs": [
      {
       "output_type": "stream",
       "stream": "stdout",
       "text": [
        "0.999999999993\n"
       ]
      }
     ],
     "prompt_number": 96
    },
    {
     "cell_type": "code",
     "collapsed": false,
     "input": [],
     "language": "python",
     "metadata": {},
     "outputs": []
    }
   ],
   "metadata": {}
  }
 ]
}