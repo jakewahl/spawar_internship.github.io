{
 "metadata": {
  "name": ""
 },
 "nbformat": 3,
 "nbformat_minor": 0,
 "worksheets": [
  {
   "cells": [
    {
     "cell_type": "code",
     "collapsed": false,
     "input": [
      "# give the value of the dot product\n",
      "\n",
      "import numpy\n",
      "u = [1,1,8]\n",
      "v = [3,2,2]\n",
      "n = len(u)\n",
      "\n",
      "def dot_prod(u, v):\n",
      "    if len(u) == len(v):\n",
      "        prod = 0\n",
      "        for x in range(0, n):\n",
      "            prod += u[x] * v[x] \n",
      "    return prod\n",
      "print dot_prod(u, v)\n",
      "        \n",
      "    "
     ],
     "language": "python",
     "metadata": {},
     "outputs": [
      {
       "output_type": "stream",
       "stream": "stdout",
       "text": [
        "21\n"
       ]
      }
     ],
     "prompt_number": 55
    },
    {
     "cell_type": "code",
     "collapsed": false,
     "input": [
      "# give a unit vector of length 1 from the larger vector\n",
      "\n",
      "u = [5, 4]\n",
      "def unit_vec(u):\n",
      "    h = math.sqrt(u[0]**2 + u[1]**2)\n",
      "    vector = [u[0] / h, u[1] / h]\n",
      "    return vector\n",
      "print unit_vec(u)"
     ],
     "language": "python",
     "metadata": {},
     "outputs": [
      {
       "output_type": "stream",
       "stream": "stdout",
       "text": [
        "[0.7808688094430304, 0.6246950475544243]\n"
       ]
      }
     ],
     "prompt_number": 67
    },
    {
     "cell_type": "code",
     "collapsed": false,
     "input": [],
     "language": "python",
     "metadata": {},
     "outputs": []
    }
   ],
   "metadata": {}
  }
 ]
}