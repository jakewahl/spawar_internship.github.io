{
 "metadata": {
  "name": ""
 },
 "nbformat": 3,
 "nbformat_minor": 0,
 "worksheets": [
  {
   "cells": [
    {
     "cell_type": "markdown",
     "metadata": {},
     "source": [
      "find the sum of all number divisible by 3 or 5 until 1000"
     ]
    },
    {
     "cell_type": "code",
     "collapsed": false,
     "input": [
      "sum = 0\n",
      "max = 1000\n",
      "\n",
      "for n in range(0, max):\n",
      "    if n % 3 == 0 or n % 5 == 0:\n",
      "        sum = sum + n\n",
      "print sum"
     ],
     "language": "python",
     "metadata": {},
     "outputs": [
      {
       "output_type": "stream",
       "stream": "stdout",
       "text": [
        "233168\n"
       ]
      }
     ],
     "prompt_number": 1
    },
    {
     "cell_type": "markdown",
     "metadata": {},
     "source": [
      "find the sum of all even values of the fibonacci sequence up to 4 mil"
     ]
    },
    {
     "cell_type": "code",
     "collapsed": false,
     "input": [
      "sum = 0\n",
      "x, y = 0, 1\n",
      "\n",
      "while x < 4000000:\n",
      "    if x % 2 == 0:\n",
      "        sum += x\n",
      "    x, y = y, y + x\n",
      "print sum\n",
      "    \n"
     ],
     "language": "python",
     "metadata": {},
     "outputs": [
      {
       "output_type": "stream",
       "stream": "stdout",
       "text": [
        "4613732\n"
       ]
      }
     ],
     "prompt_number": 7
    },
    {
     "cell_type": "markdown",
     "metadata": {},
     "source": [
      "find the largest prime factor of 600851475143 "
     ]
    },
    {
     "cell_type": "code",
     "collapsed": false,
     "input": [
      "n = 600851475143\n",
      "i = 2\n",
      "while i * i < n:\n",
      "    while n % i == 0:\n",
      "        n = n / i\n",
      "    i = i + 1\n",
      "print n"
     ],
     "language": "python",
     "metadata": {},
     "outputs": [
      {
       "output_type": "stream",
       "stream": "stdout",
       "text": [
        "6857\n"
       ]
      }
     ],
     "prompt_number": 6
    },
    {
     "cell_type": "markdown",
     "metadata": {},
     "source": [
      "find the largest palindrome from the product of two 3 digit numbers"
     ]
    },
    {
     "cell_type": "code",
     "collapsed": false,
     "input": [
      "prod = 0\n",
      "i = 999\n",
      "b = 999\n",
      "\n",
      "while i >= 100 and i <= 1000 and b >= 100 and b <= 1000:\n",
      "    prod = i * b\n",
      "    if prod < 5:\n",
      "        print prod\n",
      "    b = b - 1\n",
      "    \n",
      "\n",
      "\n"
     ],
     "language": "python",
     "metadata": {},
     "outputs": [],
     "prompt_number": 6
    },
    {
     "cell_type": "code",
     "collapsed": false,
     "input": [
      "pal = str(9009)\n",
      "pal1 = pal[::-1]\n",
      "if pal == pal1:\n",
      "    print \"Yay\""
     ],
     "language": "python",
     "metadata": {},
     "outputs": [
      {
       "output_type": "stream",
       "stream": "stdout",
       "text": [
        "Yay\n"
       ]
      }
     ],
     "prompt_number": 18
    },
    {
     "cell_type": "code",
     "collapsed": false,
     "input": [
      "prod = i*b\n",
      "i, b = 10, 10\n",
      "while b > 0:\n",
      "    i = 10\n",
      "    while i > b:\n",
      "        pals = []   \n",
      "        pal = str(prod)    \n",
      "        if pal == pal[::-1]:\n",
      "            pals.append(prod)\n",
      "        i = i - 1\n",
      "    b = b - 1\n",
      "\n",
      "\n",
      "pals = []   \n",
      "pal = str(prod)    \n",
      "if pal == pal[::-1]:\n",
      "    pals.append(prod)\n"
     ],
     "language": "python",
     "metadata": {},
     "outputs": [],
     "prompt_number": 4
    },
    {
     "cell_type": "code",
     "collapsed": false,
     "input": [
      "#FINAL\n",
      "\n",
      "i, b = 999, 999\n",
      "pals = []\n",
      "while b > 800:\n",
      "    i = 999\n",
      "    while i >= b:   \n",
      "        pal = str(i * b)    \n",
      "        if pal == pal[::-1]:\n",
      "            pals.append(i * b)\n",
      "        i = i - 1\n",
      "    b = b - 1\n",
      "print max(pals)"
     ],
     "language": "python",
     "metadata": {},
     "outputs": [
      {
       "output_type": "stream",
       "stream": "stdout",
       "text": [
        "906609\n"
       ]
      }
     ],
     "prompt_number": 2
    },
    {
     "cell_type": "code",
     "collapsed": false,
     "input": [
      "#What is the smallest positive number that is evenly divisible by all of the numbers from 1 to 20?\n",
      "\n",
      "\n",
      "numb = 20\n",
      "prod = 20\n",
      "count = 19\n",
      "while count > 0:\n",
      "    if prod % count != 0:\n",
      "        prod = prod * count\n",
      "    count -= 1\n",
      "print prod\n",
      "prime_list = [11, 13, 14, 16, 17, 19, 20]\n",
      "product = 1\n",
      "for num in prime_list:\n",
      "    product *= num\n",
      "print product\n",
      "# small_num = []\n",
      "# while numb < 1000000000:\n",
      "#     divisor = 20\n",
      "#     for divisor in prime_list:\n",
      "#         if divisor == 20 and numb % divisor == 0:\n",
      "#             small_num.append(numb)\n",
      "#         elif numb % divisor != 0: \n",
      "#             break\n",
      "#         divisor -= 1\n",
      "#     numb = numb + 20\n",
      "# print min(small_num)\n",
      "    \n",
      "        \n",
      "            "
     ],
     "language": "python",
     "metadata": {},
     "outputs": [
      {
       "output_type": "stream",
       "stream": "stdout",
       "text": [
        "3724680960\n",
        "206926720\n"
       ]
      }
     ],
     "prompt_number": 39
    },
    {
     "cell_type": "code",
     "collapsed": false,
     "input": [
      "8 * 5 * 7 * 9"
     ],
     "language": "python",
     "metadata": {},
     "outputs": [
      {
       "metadata": {},
       "output_type": "pyout",
       "prompt_number": 27,
       "text": [
        "2520"
       ]
      }
     ],
     "prompt_number": 27
    },
    {
     "cell_type": "code",
     "collapsed": false,
     "input": [
      "60480 / 4"
     ],
     "language": "python",
     "metadata": {},
     "outputs": [
      {
       "metadata": {},
       "output_type": "pyout",
       "prompt_number": 14,
       "text": [
        "15120"
       ]
      }
     ],
     "prompt_number": 14
    },
    {
     "cell_type": "code",
     "collapsed": false,
     "input": [
      "2520 / 1260"
     ],
     "language": "python",
     "metadata": {},
     "outputs": [
      {
       "metadata": {},
       "output_type": "pyout",
       "prompt_number": 26,
       "text": [
        "2"
       ]
      }
     ],
     "prompt_number": 26
    },
    {
     "cell_type": "code",
     "collapsed": false,
     "input": [
      "2 * 2*2*2*3*3*5*7*13*11*17*19"
     ],
     "language": "python",
     "metadata": {},
     "outputs": [
      {
       "metadata": {},
       "output_type": "pyout",
       "prompt_number": 40,
       "text": [
        "232792560"
       ]
      }
     ],
     "prompt_number": 40
    },
    {
     "cell_type": "code",
     "collapsed": false,
     "input": [
      "n = 30\n",
      "i = 2\n",
      "\n",
      "while i <= n:\n",
      "    while n % i == 0:\n",
      "        if n == i:\n",
      "            break\n",
      "        n = n / i\n",
      "    i = i + 1\n",
      "print prime_factors"
     ],
     "language": "python",
     "metadata": {},
     "outputs": [
      {
       "output_type": "stream",
       "stream": "stdout",
       "text": [
        "[2, 3, 5]\n"
       ]
      }
     ],
     "prompt_number": 94
    },
    {
     "cell_type": "code",
     "collapsed": false,
     "input": [
      "# create a list of primes up until N\n",
      "\n",
      "def createPrimeList(N):\n",
      "    lst = [2,]\n",
      "    test = 3\n",
      "    while test <= N:\n",
      "        prime = True\n",
      "        for x in lst:\n",
      "            if test % x == 0:\n",
      "                prime = False\n",
      "        if prime:\n",
      "            lst.append(test)\n",
      "        test = test + 1\n",
      "    return lst\n",
      "\n",
      "# print the smallest positive number divisible by each number 1 through N\n",
      "\n",
      "def euler5(N):\n",
      "    ans = 1\n",
      "    lst = createPrimeList(N)\n",
      "    for x in lst:\n",
      "        n = 1\n",
      "        while x ** n <= N:\n",
      "            n = n + 1\n",
      "        else: \n",
      "            n = n - 1\n",
      "        ans = ans * (x ** n)\n",
      "    return ans\n",
      "    \n",
      "        \n",
      "print euler5(20)\n",
      "        "
     ],
     "language": "python",
     "metadata": {},
     "outputs": [
      {
       "output_type": "stream",
       "stream": "stdout",
       "text": [
        "232792560\n"
       ]
      }
     ],
     "prompt_number": 42
    },
    {
     "cell_type": "code",
     "collapsed": false,
     "input": [
      "# print a list of composites up until N and a list of primes up until N with a space between each other\n",
      "\n",
      "def comp_prime_list(N):\n",
      "    primes = [2,]\n",
      "    composites = []\n",
      "    test = 3\n",
      "    composite = False\n",
      "    while test <= N:\n",
      "        composite = False\n",
      "        for p in primes:\n",
      "            if test % p == 0:\n",
      "                composite = True\n",
      "        if composite:\n",
      "            composites.append(test)\n",
      "        else: \n",
      "            primes.append(test)\n",
      "        test = test + 1\n",
      "    return composites, primes\n",
      "\n",
      "lst1, lst2 = comp_prime_list(20)\n",
      "print lst1, lst2\n",
      "\n",
      "\n",
      "\n",
      "\n",
      "\n"
     ],
     "language": "python",
     "metadata": {},
     "outputs": [
      {
       "output_type": "stream",
       "stream": "stdout",
       "text": [
        "[4, 6, 8, 9, 10, 12, 14, 15, 16, 18, 20] [2, 3, 5, 7, 11, 13, 17, 19]\n"
       ]
      }
     ],
     "prompt_number": 44
    },
    {
     "cell_type": "code",
     "collapsed": false,
     "input": [],
     "language": "python",
     "metadata": {},
     "outputs": []
    }
   ],
   "metadata": {}
  }
 ]
}