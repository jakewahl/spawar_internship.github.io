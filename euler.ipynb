{
 "metadata": {
  "name": ""
 },
 "nbformat": 3,
 "nbformat_minor": 0,
 "worksheets": [
  {
   "cells": [
    {
     "cell_type": "markdown",
     "metadata": {},
     "source": [
      "1. find the sum of all number divisible by 3 or 5 until 1000"
     ]
    },
    {
     "cell_type": "code",
     "collapsed": false,
     "input": [
      "sum = 0\n",
      "max = 1000\n",
      "\n",
      "for n in range(0, max):\n",
      "    if n % 3 == 0 or n % 5 == 0:\n",
      "        sum = sum + n\n",
      "print sum"
     ],
     "language": "python",
     "metadata": {},
     "outputs": [
      {
       "output_type": "stream",
       "stream": "stdout",
       "text": [
        "233168\n"
       ]
      }
     ],
     "prompt_number": 1
    },
    {
     "cell_type": "markdown",
     "metadata": {},
     "source": [
      "2.find the sum of all even values of the fibonacci sequence up to 4 mil"
     ]
    },
    {
     "cell_type": "code",
     "collapsed": false,
     "input": [
      "sum = 0\n",
      "x, y = 0, 1\n",
      "\n",
      "while x < 4000000:\n",
      "    if x % 2 == 0:\n",
      "        sum += x\n",
      "    x, y = y, y + x\n",
      "print sum\n",
      "    \n"
     ],
     "language": "python",
     "metadata": {},
     "outputs": [
      {
       "output_type": "stream",
       "stream": "stdout",
       "text": [
        "4613732\n"
       ]
      }
     ],
     "prompt_number": 7
    },
    {
     "cell_type": "markdown",
     "metadata": {},
     "source": [
      "3.find the largest prime factor of 600851475143 "
     ]
    },
    {
     "cell_type": "code",
     "collapsed": false,
     "input": [
      "n = 600851475143\n",
      "i = 2\n",
      "while i * i < n:\n",
      "    while n % i == 0:\n",
      "        n = n / i\n",
      "    i = i + 1\n",
      "print n"
     ],
     "language": "python",
     "metadata": {},
     "outputs": [
      {
       "output_type": "stream",
       "stream": "stdout",
       "text": [
        "6857\n"
       ]
      }
     ],
     "prompt_number": 6
    },
    {
     "cell_type": "markdown",
     "metadata": {},
     "source": [
      "4.find the largest palindrome from the product of two 3 digit numbers"
     ]
    },
    {
     "cell_type": "code",
     "collapsed": false,
     "input": [
      "prod = 0\n",
      "i = 999\n",
      "b = 999\n",
      "\n",
      "while i >= 100 and i <= 1000 and b >= 100 and b <= 1000:\n",
      "    prod = i * b\n",
      "    if prod < 5:\n",
      "        print prod\n",
      "    b = b - 1\n",
      "    \n",
      "\n",
      "\n"
     ],
     "language": "python",
     "metadata": {},
     "outputs": [],
     "prompt_number": 6
    },
    {
     "cell_type": "code",
     "collapsed": false,
     "input": [
      "pal = str(9009)\n",
      "pal1 = pal[::-1]\n",
      "if pal == pal1:\n",
      "    print \"Yay\""
     ],
     "language": "python",
     "metadata": {},
     "outputs": [
      {
       "output_type": "stream",
       "stream": "stdout",
       "text": [
        "Yay\n"
       ]
      }
     ],
     "prompt_number": 18
    },
    {
     "cell_type": "code",
     "collapsed": false,
     "input": [
      "prod = i*b\n",
      "i, b = 10, 10\n",
      "while b > 0:\n",
      "    i = 10\n",
      "    while i > b:\n",
      "        pals = []   \n",
      "        pal = str(prod)    \n",
      "        if pal == pal[::-1]:\n",
      "            pals.append(prod)\n",
      "        i = i - 1\n",
      "    b = b - 1\n",
      "\n",
      "\n",
      "pals = []   \n",
      "pal = str(prod)    \n",
      "if pal == pal[::-1]:\n",
      "    pals.append(prod)\n"
     ],
     "language": "python",
     "metadata": {},
     "outputs": [],
     "prompt_number": 4
    },
    {
     "cell_type": "code",
     "collapsed": false,
     "input": [
      "#FINAL\n",
      "\n",
      "i, b = 999, 999\n",
      "pals = []\n",
      "while b > 800:\n",
      "    i = 999\n",
      "    while i >= b:   \n",
      "        pal = str(i * b)    \n",
      "        if pal == pal[::-1]:\n",
      "            pals.append(i * b)\n",
      "        i = i - 1\n",
      "    b = b - 1\n",
      "print max(pals)"
     ],
     "language": "python",
     "metadata": {},
     "outputs": [
      {
       "output_type": "stream",
       "stream": "stdout",
       "text": [
        "906609\n"
       ]
      }
     ],
     "prompt_number": 2
    },
    {
     "cell_type": "markdown",
     "metadata": {},
     "source": [
      "5.smallest positive number that is evenly divisible by all of the numbers from 1 to 20"
     ]
    },
    {
     "cell_type": "code",
     "collapsed": false,
     "input": [
      "#What is the smallest positive number that is evenly divisible by all of the numbers from 1 to 20?\n",
      "\n",
      "\n",
      "numb = 20\n",
      "prod = 20\n",
      "count = 19\n",
      "while count > 0:\n",
      "    if prod % count != 0:\n",
      "        prod = prod * count\n",
      "    count -= 1\n",
      "print prod\n",
      "prime_list = [11, 13, 14, 16, 17, 19, 20]\n",
      "product = 1\n",
      "for num in prime_list:\n",
      "    product *= num\n",
      "print product\n",
      "# small_num = []\n",
      "# while numb < 1000000000:\n",
      "#     divisor = 20\n",
      "#     for divisor in prime_list:\n",
      "#         if divisor == 20 and numb % divisor == 0:\n",
      "#             small_num.append(numb)\n",
      "#         elif numb % divisor != 0: \n",
      "#             break\n",
      "#         divisor -= 1\n",
      "#     numb = numb + 20\n",
      "# print min(small_num)\n",
      "    \n",
      "        \n",
      "            "
     ],
     "language": "python",
     "metadata": {},
     "outputs": [
      {
       "output_type": "stream",
       "stream": "stdout",
       "text": [
        "3724680960\n",
        "206926720\n"
       ]
      }
     ],
     "prompt_number": 39
    },
    {
     "cell_type": "code",
     "collapsed": false,
     "input": [
      "8 * 5 * 7 * 9"
     ],
     "language": "python",
     "metadata": {},
     "outputs": [
      {
       "metadata": {},
       "output_type": "pyout",
       "prompt_number": 27,
       "text": [
        "2520"
       ]
      }
     ],
     "prompt_number": 27
    },
    {
     "cell_type": "code",
     "collapsed": false,
     "input": [
      "60480 / 4"
     ],
     "language": "python",
     "metadata": {},
     "outputs": [
      {
       "metadata": {},
       "output_type": "pyout",
       "prompt_number": 14,
       "text": [
        "15120"
       ]
      }
     ],
     "prompt_number": 14
    },
    {
     "cell_type": "code",
     "collapsed": false,
     "input": [
      "2520 / 1260"
     ],
     "language": "python",
     "metadata": {},
     "outputs": [
      {
       "metadata": {},
       "output_type": "pyout",
       "prompt_number": 26,
       "text": [
        "2"
       ]
      }
     ],
     "prompt_number": 26
    },
    {
     "cell_type": "code",
     "collapsed": false,
     "input": [
      "2 * 2*2*2*3*3*5*7*13*11*17*19"
     ],
     "language": "python",
     "metadata": {},
     "outputs": [
      {
       "metadata": {},
       "output_type": "pyout",
       "prompt_number": 40,
       "text": [
        "232792560"
       ]
      }
     ],
     "prompt_number": 40
    },
    {
     "cell_type": "code",
     "collapsed": false,
     "input": [
      "n = 30\n",
      "i = 2\n",
      "\n",
      "while i <= n:\n",
      "    while n % i == 0:\n",
      "        if n == i:\n",
      "            break\n",
      "        n = n / i\n",
      "    i = i + 1\n",
      "print prime_factors"
     ],
     "language": "python",
     "metadata": {},
     "outputs": [
      {
       "output_type": "stream",
       "stream": "stdout",
       "text": [
        "[2, 3, 5]\n"
       ]
      }
     ],
     "prompt_number": 94
    },
    {
     "cell_type": "code",
     "collapsed": false,
     "input": [
      "# create a list of primes up until N\n",
      "\n",
      "def createPrimeList(N):\n",
      "    lst = [2,]\n",
      "    test = 3\n",
      "    while len(lst) < N:\n",
      "        prime = True\n",
      "        for x in lst:\n",
      "            if x ** 2 > test:\n",
      "                break\n",
      "            if test % x == 0:\n",
      "                prime = False\n",
      "        if prime:\n",
      "            lst.append(test)\n",
      "        test = test + 1\n",
      "    return lst\n",
      "\n",
      "# print the smallest positive number divisible by each number 1 through N\n",
      "\n",
      "def euler5(N):\n",
      "    ans = 1\n",
      "    lst = createPrimeList(N)\n",
      "    for x in lst:\n",
      "        n = 1\n",
      "        while x ** n <= N:\n",
      "            n = n + 1\n",
      "        else: \n",
      "            n = n - 1\n",
      "        ans = ans * (x ** n)\n",
      "    return ans\n",
      "    \n",
      "        \n",
      "print euler5(20)\n",
      "        "
     ],
     "language": "python",
     "metadata": {},
     "outputs": [
      {
       "output_type": "stream",
       "stream": "stdout",
       "text": [
        "232792560\n"
       ]
      }
     ],
     "prompt_number": 50
    },
    {
     "cell_type": "markdown",
     "metadata": {},
     "source": [
      "6.list of composites up until N"
     ]
    },
    {
     "cell_type": "code",
     "collapsed": false,
     "input": [
      "# print a list of composites up until N and a list of primes up until N with a space between each other\n",
      "\n",
      "def comp_prime_list(N):\n",
      "    primes = [2,]\n",
      "    composites = []\n",
      "    test = 3\n",
      "    composite = False\n",
      "    while test <= N:\n",
      "        composite = False\n",
      "        for p in primes:\n",
      "            if test % p == 0:\n",
      "                composite = True\n",
      "        if composite:\n",
      "            composites.append(test)\n",
      "        else: \n",
      "            primes.append(test)\n",
      "        test = test + 1\n",
      "    return composites, primes\n",
      "\n",
      "lst1, lst2 = comp_prime_list(20)\n",
      "print lst1, lst2\n",
      "\n",
      "\n",
      "\n",
      "\n",
      "\n"
     ],
     "language": "python",
     "metadata": {},
     "outputs": [
      {
       "output_type": "stream",
       "stream": "stdout",
       "text": [
        "[4, 6, 8, 9, 10, 12, 14, 15, 16, 18, 20] [2, 3, 5, 7, 11, 13, 17, 19]\n"
       ]
      }
     ],
     "prompt_number": 60
    },
    {
     "cell_type": "code",
     "collapsed": false,
     "input": [
      "# Problem 6: Find the difference between the sum of the squares of the first one hundred natural numbers and the square of the sum.\n",
      "\n",
      "# first try\n",
      "sqofsum = [0]\n",
      "sumofsq = [0]\n",
      "\n",
      "for x in range(1, 101):\n",
      "    add = sumofsq[0] + x\n",
      "    sumofsq[0] = add\n",
      "final = sumofsq[0]\n",
      "sum_of_squares = final ** 2\n",
      "print sum_of_squares\n",
      "\n",
      "for x in range(1, 101):\n",
      "    square = sqofsum[0] + x ** 2\n",
      "    sqofsum[0] = square\n",
      "    n = n + 1\n",
      "square_of_sums = sqofsum[0]\n",
      "print part2\n",
      "print \"\\n\"\n",
      "print sum_of_squares - square_of_sums\n",
      "\n",
      "\n",
      "\n",
      "# way more efficient and less code\n",
      "\n",
      "sumsquare = 0\n",
      "squaresum = 0\n",
      "for x in range(1, 101):\n",
      "    sumsquare += x ** 2\n",
      "    squaresum += x\n",
      "squaresum = squaresum ** 2\n",
      "    \n",
      "print squaresum - sumsquare\n",
      "\n",
      "\n"
     ],
     "language": "python",
     "metadata": {},
     "outputs": [
      {
       "ename": "NameError",
       "evalue": "name 'n' is not defined",
       "output_type": "pyerr",
       "traceback": [
        "\u001b[0;31m---------------------------------------------------------------------------\u001b[0m\n\u001b[0;31mNameError\u001b[0m                                 Traceback (most recent call last)",
        "\u001b[0;32m<ipython-input-52-d546d01e1570>\u001b[0m in \u001b[0;36m<module>\u001b[0;34m()\u001b[0m\n\u001b[1;32m     15\u001b[0m     \u001b[0msquare\u001b[0m \u001b[0;34m=\u001b[0m \u001b[0msqofsum\u001b[0m\u001b[0;34m[\u001b[0m\u001b[0;36m0\u001b[0m\u001b[0;34m]\u001b[0m \u001b[0;34m+\u001b[0m \u001b[0mx\u001b[0m \u001b[0;34m**\u001b[0m \u001b[0;36m2\u001b[0m\u001b[0;34m\u001b[0m\u001b[0m\n\u001b[1;32m     16\u001b[0m     \u001b[0msqofsum\u001b[0m\u001b[0;34m[\u001b[0m\u001b[0;36m0\u001b[0m\u001b[0;34m]\u001b[0m \u001b[0;34m=\u001b[0m \u001b[0msquare\u001b[0m\u001b[0;34m\u001b[0m\u001b[0m\n\u001b[0;32m---> 17\u001b[0;31m     \u001b[0mn\u001b[0m \u001b[0;34m=\u001b[0m \u001b[0mn\u001b[0m \u001b[0;34m+\u001b[0m \u001b[0;36m1\u001b[0m\u001b[0;34m\u001b[0m\u001b[0m\n\u001b[0m\u001b[1;32m     18\u001b[0m \u001b[0msquare_of_sums\u001b[0m \u001b[0;34m=\u001b[0m \u001b[0msqofsum\u001b[0m\u001b[0;34m[\u001b[0m\u001b[0;36m0\u001b[0m\u001b[0;34m]\u001b[0m\u001b[0;34m\u001b[0m\u001b[0m\n\u001b[1;32m     19\u001b[0m \u001b[0;32mprint\u001b[0m \u001b[0mpart2\u001b[0m\u001b[0;34m\u001b[0m\u001b[0m\n",
        "\u001b[0;31mNameError\u001b[0m: name 'n' is not defined"
       ]
      },
      {
       "output_type": "stream",
       "stream": "stdout",
       "text": [
        "25502500\n"
       ]
      }
     ],
     "prompt_number": 52
    },
    {
     "cell_type": "code",
     "collapsed": false,
     "input": [
      "# Problem 7\n",
      "\n",
      "print createPrimeList(10001)[-1]"
     ],
     "language": "python",
     "metadata": {},
     "outputs": [
      {
       "output_type": "stream",
       "stream": "stdout",
       "text": [
        "104743\n"
       ]
      }
     ],
     "prompt_number": 53
    },
    {
     "cell_type": "code",
     "collapsed": false,
     "input": [
      "# Problem 8: Find the thirteen adjacent digits in the 1000-digit number that have the greatest product. What is the value of this product?\n",
      "\n",
      "n = 73167176531330624919225119674426574742355349194934\\\n",
      "96983520312774506326239578318016984801869478851843\\\n",
      "85861560789112949495459501737958331952853208805511\\\n",
      "12540698747158523863050715693290963295227443043557\\\n",
      "66896648950445244523161731856403098711121722383113\\\n",
      "62229893423380308135336276614282806444486645238749\\\n",
      "30358907296290491560440772390713810515859307960866\\\n",
      "70172427121883998797908792274921901699720888093776\\\n",
      "65727333001053367881220235421809751254540594752243\\\n",
      "52584907711670556013604839586446706324415722155397\\\n",
      "53697817977846174064955149290862569321978468622482\\\n",
      "83972241375657056057490261407972968652414535100474\\\n",
      "82166370484403199890008895243450658541227588666881\\\n",
      "16427171479924442928230863465674813919123162824586\\\n",
      "17866458359124566529476545682848912883142607690042\\\n",
      "24219022671055626321111109370544217506941658960408\\\n",
      "07198403850962455444362981230987879927244284909188\\\n",
      "84580156166097919133875499200524063689912560717606\\\n",
      "05886116467109405077541002256983155200055935729725\\\n",
      "71636269561882670428252483600823257530420752963450\n",
      "\n",
      "\n",
      "n_string = str(n)\n",
      "test = 1\n",
      "prod = []\n",
      "i = 0\n",
      "\n",
      "while i <= 987:\n",
      "    test = 1\n",
      "    for x in n_string[i: i + 13]:\n",
      "        test = test * int(x)\n",
      "    if test == 0:\n",
      "        i += 13\n",
      "    else:\n",
      "        prod.append(test)\n",
      "        i += 1\n",
      "print max(prod)\n",
      "\n",
      "\n",
      "    \n",
      "    \n",
      "    \n",
      "\n",
      "\n"
     ],
     "language": "python",
     "metadata": {},
     "outputs": [
      {
       "output_type": "stream",
       "stream": "stdout",
       "text": [
        "23514624000\n"
       ]
      }
     ],
     "prompt_number": 54
    },
    {
     "cell_type": "code",
     "collapsed": false,
     "input": [
      "# Problem 9: There exists exactly one Pythagorean triplet for which a + b + c = 1000.  Find the product abc.\n",
      "\n",
      "import math\n",
      "lsta = []\n",
      "lstb = []\n",
      "abclist = []\n",
      "for a in range(20, 1000):\n",
      "    if a ** 2 > 1000:\n",
      "        lsta.append(a)\n",
      "for b in range(20, 1000):\n",
      "    if b ** 2 > 1000:\n",
      "        lstb.append(b)\n",
      "\n",
      "for a in lsta:\n",
      "    for b in lstb:\n",
      "        if a ** 2 + b ** 2 > 1000:\n",
      "            c = (a ** 2) + (b ** 2)\n",
      "            if a + b + math.sqrt(c) == 1000:\n",
      "                abclist.append(a)\n",
      "                abclist.append(b)\n",
      "                abclist.append(math.sqrt(c))\n",
      "print abclist\n",
      "print abclist[0] * abclist[1] * abclist[2]\n",
      "\n",
      "\n",
      "\n",
      "\n",
      "    \n",
      "    \n",
      "    "
     ],
     "language": "python",
     "metadata": {},
     "outputs": [
      {
       "output_type": "stream",
       "stream": "stdout",
       "text": [
        "[200, 375, 425.0, 375, 200, 425.0]\n",
        "31875000.0\n"
       ]
      }
     ],
     "prompt_number": 55
    },
    {
     "cell_type": "code",
     "collapsed": false,
     "input": [
      "import math\n",
      "math.sqrt(1000)"
     ],
     "language": "python",
     "metadata": {},
     "outputs": [
      {
       "metadata": {},
       "output_type": "pyout",
       "prompt_number": 56,
       "text": [
        "31.622776601683793"
       ]
      }
     ],
     "prompt_number": 56
    },
    {
     "cell_type": "code",
     "collapsed": false,
     "input": [
      "# returns list of primes up until N\n",
      "\n",
      "def prime_list(N):\n",
      "    primes = [2,]\n",
      "    test = 3\n",
      "    composite = False\n",
      "    while test <= N:\n",
      "        composite = False\n",
      "        for p in primes:\n",
      "            if test % p == 0:\n",
      "                composite = True\n",
      "        if not composite: \n",
      "            primes.append(test)\n",
      "        test = test + 2\n",
      "    return primes\n",
      "\n",
      "pl = prime_list(20)\n",
      "print pl\n",
      "\n",
      "import time\n",
      "t = time.time()\n",
      "a = prime_list(200000)\n",
      "s = sum(a)\n",
      "print s\n",
      "print time.time() - t\n",
      "\n",
      "    "
     ],
     "language": "python",
     "metadata": {},
     "outputs": [
      {
       "ename": "KeyboardInterrupt",
       "evalue": "",
       "output_type": "pyerr",
       "traceback": [
        "\u001b[0;31m---------------------------------------------------------------------------\u001b[0m\n\u001b[0;31mKeyboardInterrupt\u001b[0m                         Traceback (most recent call last)",
        "\u001b[0;32m<ipython-input-91-5085f5e87ba3>\u001b[0m in \u001b[0;36m<module>\u001b[0;34m()\u001b[0m\n\u001b[1;32m     20\u001b[0m \u001b[0;32mimport\u001b[0m \u001b[0mtime\u001b[0m\u001b[0;34m\u001b[0m\u001b[0m\n\u001b[1;32m     21\u001b[0m \u001b[0mt\u001b[0m \u001b[0;34m=\u001b[0m \u001b[0mtime\u001b[0m\u001b[0;34m.\u001b[0m\u001b[0mtime\u001b[0m\u001b[0;34m(\u001b[0m\u001b[0;34m)\u001b[0m\u001b[0;34m\u001b[0m\u001b[0m\n\u001b[0;32m---> 22\u001b[0;31m \u001b[0ma\u001b[0m \u001b[0;34m=\u001b[0m \u001b[0mprime_list\u001b[0m\u001b[0;34m(\u001b[0m\u001b[0;36m200000\u001b[0m\u001b[0;34m)\u001b[0m\u001b[0;34m\u001b[0m\u001b[0m\n\u001b[0m\u001b[1;32m     23\u001b[0m \u001b[0ms\u001b[0m \u001b[0;34m=\u001b[0m \u001b[0msum\u001b[0m\u001b[0;34m(\u001b[0m\u001b[0ma\u001b[0m\u001b[0;34m)\u001b[0m\u001b[0;34m\u001b[0m\u001b[0m\n\u001b[1;32m     24\u001b[0m \u001b[0;32mprint\u001b[0m \u001b[0ms\u001b[0m\u001b[0;34m\u001b[0m\u001b[0m\n",
        "\u001b[0;32m<ipython-input-91-5085f5e87ba3>\u001b[0m in \u001b[0;36mprime_list\u001b[0;34m(N)\u001b[0m\n\u001b[1;32m      8\u001b[0m         \u001b[0mcomposite\u001b[0m \u001b[0;34m=\u001b[0m \u001b[0mFalse\u001b[0m\u001b[0;34m\u001b[0m\u001b[0m\n\u001b[1;32m      9\u001b[0m         \u001b[0;32mfor\u001b[0m \u001b[0mp\u001b[0m \u001b[0;32min\u001b[0m \u001b[0mprimes\u001b[0m\u001b[0;34m:\u001b[0m\u001b[0;34m\u001b[0m\u001b[0m\n\u001b[0;32m---> 10\u001b[0;31m             \u001b[0;32mif\u001b[0m \u001b[0mtest\u001b[0m \u001b[0;34m%\u001b[0m \u001b[0mp\u001b[0m \u001b[0;34m==\u001b[0m \u001b[0;36m0\u001b[0m\u001b[0;34m:\u001b[0m\u001b[0;34m\u001b[0m\u001b[0m\n\u001b[0m\u001b[1;32m     11\u001b[0m                 \u001b[0mcomposite\u001b[0m \u001b[0;34m=\u001b[0m \u001b[0mTrue\u001b[0m\u001b[0;34m\u001b[0m\u001b[0m\n\u001b[1;32m     12\u001b[0m         \u001b[0;32mif\u001b[0m \u001b[0;32mnot\u001b[0m \u001b[0mcomposite\u001b[0m\u001b[0;34m:\u001b[0m\u001b[0;34m\u001b[0m\u001b[0m\n",
        "\u001b[0;31mKeyboardInterrupt\u001b[0m: "
       ]
      },
      {
       "output_type": "stream",
       "stream": "stdout",
       "text": [
        "[2, 3, 5, 7, 11, 13, 17, 19]\n"
       ]
      }
     ],
     "prompt_number": 91
    },
    {
     "cell_type": "code",
     "collapsed": false,
     "input": [
      "import time\n",
      "def sum_primes_until(N):\n",
      "    lst = [2,]\n",
      "    test = 3\n",
      "    sum = 2\n",
      "    while test < N:\n",
      "        prime = True\n",
      "        for x in lst:\n",
      "            if x ** 2 > test:\n",
      "                break\n",
      "            if test % x == 0:\n",
      "                prime = False\n",
      "                break\n",
      "        if prime:\n",
      "            sum += test\n",
      "            lst.append(test)\n",
      "        test += 2\n",
      "    return sum\n",
      "\n",
      "t = time.time()\n",
      "print sum_primes_until(2000000)\n",
      "print time.time() - t"
     ],
     "language": "python",
     "metadata": {},
     "outputs": [
      {
       "output_type": "stream",
       "stream": "stdout",
       "text": [
        "142913828922\n",
        "9.16992902756\n"
       ]
      }
     ],
     "prompt_number": 101
    },
    {
     "cell_type": "code",
     "collapsed": false,
     "input": [
      "n = \"08 02 22 97 38 15 00 40 00 75 04 05 07 78 52 12 50 77 91 08\\\n",
      " 49 49 99 40 17 81 18 57 60 87 17 40 98 43 69 48 04 56 62 00\\\n",
      " 81 49 31 73 55 79 14 29 93 71 40 67 53 88 30 03 49 13 36 65\\\n",
      " 52 70 95 23 04 60 11 42 69 24 68 56 01 32 56 71 37 02 36 91\\\n",
      " 22 31 16 71 51 67 63 89 41 92 36 54 22 40 40 28 66 33 13 80\\\n",
      " 24 47 32 60 99 03 45 02 44 75 33 53 78 36 84 20 35 17 12 50\\\n",
      " 32 98 81 28 64 23 67 10 26 38 40 67 59 54 70 66 18 38 64 70\\\n",
      " 67 26 20 68 02 62 12 20 95 63 94 39 63 08 40 91 66 49 94 21\\\n",
      " 24 55 58 05 66 73 99 26 97 17 78 78 96 83 14 88 34 89 63 72\\\n",
      " 21 36 23 09 75 00 76 44 20 45 35 14 00 61 33 97 34 31 33 95\\\n",
      " 78 17 53 28 22 75 31 67 15 94 03 80 04 62 16 14 09 53 56 92\\\n",
      " 16 39 05 42 96 35 31 47 55 58 88 24 00 17 54 24 36 29 85 57\\\n",
      " 86 56 00 48 35 71 89 07 05 44 44 37 44 60 21 58 51 54 17 58\\\n",
      " 19 80 81 68 05 94 47 69 28 73 92 13 86 52 17 77 04 89 55 40\\\n",
      " 04 52 08 83 97 35 99 16 07 97 57 32 16 26 26 79 33 27 98 66\\\n",
      " 88 36 68 87 57 62 20 72 03 46 33 67 46 55 12 32 63 93 53 69\\\n",
      " 04 42 16 73 38 25 39 11 24 94 72 18 08 46 29 32 40 62 76 36\\\n",
      " 20 69 36 41 72 30 23 88 34 62 99 69 82 67 59 85 74 04 36 16\\\n",
      " 20 73 35 29 78 31 90 01 74 31 49 71 48 86 81 16 23 57 05 54\\\n",
      " 01 70 54 71 83 51 54 69 16 92 33 48 61 43 52 01 89 19 67 48\"\n",
      "\n",
      "\n",
      "lst = n.split()\n",
      "test = 1\n",
      "leftright = []\n",
      "i = 0\n",
      "\n",
      "# left and right\n",
      "while i <= 400:\n",
      "    test = 1\n",
      "    for x in lst[i: i + 4]:\n",
      "        test = test * int(x)\n",
      "    else:\n",
      "        leftright.append(test)\n",
      "        i += 1\n",
      "print max(leftright)\n",
      "\n",
      "# up and down\n",
      "updown = []\n",
      "i = 0\n",
      "while i <= 320:\n",
      "    test = 1\n",
      "    for x in lst[i: i + 80: 20]:\n",
      "        test = test * int(x)\n",
      "    else:\n",
      "        updown.append(test)\n",
      "        i += 1\n",
      "print max(updown)\n",
      "\n",
      "# diagonal right\n",
      "rdiagonal = []\n",
      "i = 0\n",
      "while i <= 320:\n",
      "    test = 1\n",
      "    for x in lst[i: i + 84: 21]:\n",
      "        if i % 20 == 18 and i % 20 == 19 and i % 20 == 0:\n",
      "            pass\n",
      "        else: \n",
      "            test = test * int(x)\n",
      "    else:\n",
      "        rdiagonal.append(test)\n",
      "        i += 1\n",
      "print max(rdiagonal)\n",
      "\n",
      "# diagonal left\n",
      "ldiagonal = []\n",
      "i = 0\n",
      "while i <= 328:\n",
      "    test = 1\n",
      "    for x in lst[i + 72: i: -18]:\n",
      "        if i % 20 == 2 and i % 20 == 1 and i % 20 == 0:\n",
      "            pass\n",
      "        else: \n",
      "            test = test * int(x)\n",
      "    else:\n",
      "        ldiagonal.append(test)\n",
      "        i += 1\n",
      "print max(ldiagonal)"
     ],
     "language": "python",
     "metadata": {},
     "outputs": [
      {
       "output_type": "stream",
       "stream": "stdout",
       "text": [
        "48477312\n",
        "51267216\n",
        "32719995\n",
        "50503662\n"
       ]
      }
     ],
     "prompt_number": 151
    },
    {
     "cell_type": "code",
     "collapsed": false,
     "input": [
      "class Book(object):\n",
      "    def __init__(self, pages):\n",
      "        self.pages = pages\n",
      "    def __str__(self):\n",
      "        return str(self.pages)\n",
      "jake = Jake(300)\n",
      "print jake"
     ],
     "language": "python",
     "metadata": {},
     "outputs": [
      {
       "output_type": "stream",
       "stream": "stdout",
       "text": [
        "300\n"
       ]
      }
     ],
     "prompt_number": 161
    },
    {
     "cell_type": "code",
     "collapsed": false,
     "input": [],
     "language": "python",
     "metadata": {},
     "outputs": []
    }
   ],
   "metadata": {}
  }
 ]
}