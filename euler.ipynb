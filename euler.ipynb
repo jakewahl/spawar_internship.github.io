{
 "metadata": {
  "name": ""
 },
 "nbformat": 3,
 "nbformat_minor": 0,
 "worksheets": [
  {
   "cells": [
    {
     "cell_type": "markdown",
     "metadata": {},
     "source": [
      "find the sum of all number divisible by 3 or 5 until 1000"
     ]
    },
    {
     "cell_type": "code",
     "collapsed": false,
     "input": [
      "sum = 0\n",
      "max = 1000\n",
      "\n",
      "for n in range(0, max):\n",
      "    if n % 3 == 0 or n % 5 == 0:\n",
      "        sum = sum + n\n",
      "print sum"
     ],
     "language": "python",
     "metadata": {},
     "outputs": [
      {
       "output_type": "stream",
       "stream": "stdout",
       "text": [
        "233168\n"
       ]
      }
     ],
     "prompt_number": 1
    },
    {
     "cell_type": "markdown",
     "metadata": {},
     "source": [
      "find the sum of all even values of the fibonacci sequence up to 4 mil"
     ]
    },
    {
     "cell_type": "code",
     "collapsed": false,
     "input": [
      "sum = 0\n",
      "x, y = 0, 1\n",
      "\n",
      "while x < 4000000:\n",
      "    if x % 2 == 0:\n",
      "        sum += x\n",
      "    x, y = y, y + x\n",
      "print sum\n",
      "    \n"
     ],
     "language": "python",
     "metadata": {},
     "outputs": [
      {
       "output_type": "stream",
       "stream": "stdout",
       "text": [
        "4613732\n"
       ]
      }
     ],
     "prompt_number": 7
    },
    {
     "cell_type": "markdown",
     "metadata": {},
     "source": [
      "find the largest prime factor of 600851475143 "
     ]
    },
    {
     "cell_type": "code",
     "collapsed": false,
     "input": [
      "n = 600851475143\n",
      "i = 2\n",
      "while i * i < n:\n",
      "    while n % i == 0:\n",
      "        n = n / i\n",
      "    i = i + 1\n",
      "print n"
     ],
     "language": "python",
     "metadata": {},
     "outputs": [
      {
       "output_type": "stream",
       "stream": "stdout",
       "text": [
        "6857\n"
       ]
      }
     ],
     "prompt_number": 6
    },
    {
     "cell_type": "markdown",
     "metadata": {},
     "source": [
      "find the largest palindrome from the product of two 3 digit numbers"
     ]
    },
    {
     "cell_type": "code",
     "collapsed": false,
     "input": [
      "prod = 0\n",
      "i = 999\n",
      "b = 999\n",
      "\n",
      "while i >= 100 and i <= 1000 and b >= 100 and b <= 1000:\n",
      "    prod = i * b\n",
      "    if prod < 5:\n",
      "        print prod\n",
      "    b = b - 1\n",
      "    \n",
      "\n",
      "\n"
     ],
     "language": "python",
     "metadata": {},
     "outputs": [],
     "prompt_number": 6
    },
    {
     "cell_type": "code",
     "collapsed": false,
     "input": [
      "pal = str(9009)\n",
      "pal1 = pal[::-1]\n",
      "if pal == pal1:\n",
      "    print \"Yay\""
     ],
     "language": "python",
     "metadata": {},
     "outputs": [
      {
       "output_type": "stream",
       "stream": "stdout",
       "text": [
        "Yay\n"
       ]
      }
     ],
     "prompt_number": 18
    },
    {
     "cell_type": "code",
     "collapsed": false,
     "input": [
      "prod = i*b\n",
      "i, b = 10, 10\n",
      "while b > 0:\n",
      "    i = 10\n",
      "    while i > b:\n",
      "        pals = []   \n",
      "        pal = str(prod)    \n",
      "        if pal == pal[::-1]:\n",
      "            pals.append(prod)\n",
      "        i = i - 1\n",
      "    b = b - 1\n",
      "\n",
      "\n",
      "pals = []   \n",
      "pal = str(prod)    \n",
      "if pal == pal[::-1]:\n",
      "    pals.append(prod)\n"
     ],
     "language": "python",
     "metadata": {},
     "outputs": [],
     "prompt_number": 4
    },
    {
     "cell_type": "code",
     "collapsed": false,
     "input": [
      "#FINAL\n",
      "\n",
      "i, b = 999, 999\n",
      "pals = []\n",
      "while b > 800:\n",
      "    i = 999\n",
      "    while i >= b:   \n",
      "        pal = str(i * b)    \n",
      "        if pal == pal[::-1]:\n",
      "            pals.append(i * b)\n",
      "        i = i - 1\n",
      "    b = b - 1\n",
      "print max(pals)"
     ],
     "language": "python",
     "metadata": {},
     "outputs": [
      {
       "output_type": "stream",
       "stream": "stdout",
       "text": [
        "906609\n"
       ]
      }
     ],
     "prompt_number": 2
    },
    {
     "cell_type": "code",
     "collapsed": false,
     "input": [],
     "language": "python",
     "metadata": {},
     "outputs": []
    }
   ],
   "metadata": {}
  }
 ]
}