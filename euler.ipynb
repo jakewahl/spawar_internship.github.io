{
 "metadata": {
  "name": ""
 },
 "nbformat": 3,
 "nbformat_minor": 0,
 "worksheets": [
  {
   "cells": [
    {
     "cell_type": "markdown",
     "metadata": {},
     "source": [
      "1. find the sum of all number divisible by 3 or 5 until 1000"
     ]
    },
    {
     "cell_type": "code",
     "collapsed": false,
     "input": [
      "sum = 0\n",
      "max = 1000\n",
      "\n",
      "for n in range(0, max):\n",
      "    if n % 3 == 0 or n % 5 == 0:\n",
      "        sum = sum + n\n",
      "print sum"
     ],
     "language": "python",
     "metadata": {},
     "outputs": [
      {
       "output_type": "stream",
       "stream": "stdout",
       "text": [
        "233168\n"
       ]
      }
     ],
     "prompt_number": 1
    },
    {
     "cell_type": "markdown",
     "metadata": {},
     "source": [
      "2.find the sum of all even values of the fibonacci sequence up to 4 mil"
     ]
    },
    {
     "cell_type": "code",
     "collapsed": false,
     "input": [
      "sum = 0\n",
      "x, y = 0, 1\n",
      "\n",
      "while x < 4000000:\n",
      "    if x % 2 == 0:\n",
      "        sum += x\n",
      "    x, y = y, y + x\n",
      "print sum\n",
      "    \n"
     ],
     "language": "python",
     "metadata": {},
     "outputs": [
      {
       "output_type": "stream",
       "stream": "stdout",
       "text": [
        "4613732\n"
       ]
      }
     ],
     "prompt_number": 7
    },
    {
     "cell_type": "markdown",
     "metadata": {},
     "source": [
      "3.find the largest prime factor of 600851475143 "
     ]
    },
    {
     "cell_type": "code",
     "collapsed": false,
     "input": [
      "n = 600851475143\n",
      "i = 2\n",
      "while i * i < n:\n",
      "    while n % i == 0:\n",
      "        n = n / i\n",
      "    i = i + 1\n",
      "print n"
     ],
     "language": "python",
     "metadata": {},
     "outputs": [
      {
       "output_type": "stream",
       "stream": "stdout",
       "text": [
        "6857\n"
       ]
      }
     ],
     "prompt_number": 6
    },
    {
     "cell_type": "markdown",
     "metadata": {},
     "source": [
      "4.find the largest palindrome from the product of two 3 digit numbers"
     ]
    },
    {
     "cell_type": "code",
     "collapsed": false,
     "input": [
      "prod = 0\n",
      "i = 999\n",
      "b = 999\n",
      "\n",
      "while i >= 100 and i <= 1000 and b >= 100 and b <= 1000:\n",
      "    prod = i * b\n",
      "    if prod < 5:\n",
      "        print prod\n",
      "    b = b - 1\n",
      "    \n",
      "\n",
      "\n"
     ],
     "language": "python",
     "metadata": {},
     "outputs": [],
     "prompt_number": 6
    },
    {
     "cell_type": "code",
     "collapsed": false,
     "input": [
      "pal = str(9009)\n",
      "pal1 = pal[::-1]\n",
      "if pal == pal1:\n",
      "    print \"Yay\""
     ],
     "language": "python",
     "metadata": {},
     "outputs": [
      {
       "output_type": "stream",
       "stream": "stdout",
       "text": [
        "Yay\n"
       ]
      }
     ],
     "prompt_number": 18
    },
    {
     "cell_type": "code",
     "collapsed": false,
     "input": [
      "prod = i*b\n",
      "i, b = 10, 10\n",
      "while b > 0:\n",
      "    i = 10\n",
      "    while i > b:\n",
      "        pals = []   \n",
      "        pal = str(prod)    \n",
      "        if pal == pal[::-1]:\n",
      "            pals.append(prod)\n",
      "        i = i - 1\n",
      "    b = b - 1\n",
      "\n",
      "\n",
      "pals = []   \n",
      "pal = str(prod)    \n",
      "if pal == pal[::-1]:\n",
      "    pals.append(prod)\n"
     ],
     "language": "python",
     "metadata": {},
     "outputs": [],
     "prompt_number": 4
    },
    {
     "cell_type": "code",
     "collapsed": false,
     "input": [
      "#FINAL\n",
      "\n",
      "i, b = 999, 999\n",
      "pals = []\n",
      "while b > 800:\n",
      "    i = 999\n",
      "    while i >= b:   \n",
      "        pal = str(i * b)    \n",
      "        if pal == pal[::-1]:\n",
      "            pals.append(i * b)\n",
      "        i = i - 1\n",
      "    b = b - 1\n",
      "print max(pals)"
     ],
     "language": "python",
     "metadata": {},
     "outputs": [
      {
       "output_type": "stream",
       "stream": "stdout",
       "text": [
        "906609\n"
       ]
      }
     ],
     "prompt_number": 2
    },
    {
     "cell_type": "markdown",
     "metadata": {},
     "source": [
      "5.smallest positive number that is evenly divisible by all of the numbers from 1 to 20"
     ]
    },
    {
     "cell_type": "code",
     "collapsed": false,
     "input": [
      "#What is the smallest positive number that is evenly divisible by all of the numbers from 1 to 20?\n",
      "\n",
      "\n",
      "numb = 20\n",
      "prod = 20\n",
      "count = 19\n",
      "while count > 0:\n",
      "    if prod % count != 0:\n",
      "        prod = prod * count\n",
      "    count -= 1\n",
      "print prod\n",
      "prime_list = [11, 13, 14, 16, 17, 19, 20]\n",
      "product = 1\n",
      "for num in prime_list:\n",
      "    product *= num\n",
      "print product\n",
      "# small_num = []\n",
      "# while numb < 1000000000:\n",
      "#     divisor = 20\n",
      "#     for divisor in prime_list:\n",
      "#         if divisor == 20 and numb % divisor == 0:\n",
      "#             small_num.append(numb)\n",
      "#         elif numb % divisor != 0: \n",
      "#             break\n",
      "#         divisor -= 1\n",
      "#     numb = numb + 20\n",
      "# print min(small_num)\n",
      "    \n",
      "        \n",
      "            "
     ],
     "language": "python",
     "metadata": {},
     "outputs": [
      {
       "output_type": "stream",
       "stream": "stdout",
       "text": [
        "3724680960\n",
        "206926720\n"
       ]
      }
     ],
     "prompt_number": 39
    },
    {
     "cell_type": "code",
     "collapsed": false,
     "input": [
      "8 * 5 * 7 * 9"
     ],
     "language": "python",
     "metadata": {},
     "outputs": [
      {
       "metadata": {},
       "output_type": "pyout",
       "prompt_number": 27,
       "text": [
        "2520"
       ]
      }
     ],
     "prompt_number": 27
    },
    {
     "cell_type": "code",
     "collapsed": false,
     "input": [
      "60480 / 4"
     ],
     "language": "python",
     "metadata": {},
     "outputs": [
      {
       "metadata": {},
       "output_type": "pyout",
       "prompt_number": 14,
       "text": [
        "15120"
       ]
      }
     ],
     "prompt_number": 14
    },
    {
     "cell_type": "code",
     "collapsed": false,
     "input": [
      "2520 / 1260"
     ],
     "language": "python",
     "metadata": {},
     "outputs": [
      {
       "metadata": {},
       "output_type": "pyout",
       "prompt_number": 26,
       "text": [
        "2"
       ]
      }
     ],
     "prompt_number": 26
    },
    {
     "cell_type": "code",
     "collapsed": false,
     "input": [
      "2 * 2*2*2*3*3*5*7*13*11*17*19"
     ],
     "language": "python",
     "metadata": {},
     "outputs": [
      {
       "metadata": {},
       "output_type": "pyout",
       "prompt_number": 40,
       "text": [
        "232792560"
       ]
      }
     ],
     "prompt_number": 40
    },
    {
     "cell_type": "code",
     "collapsed": false,
     "input": [
      "n = 30\n",
      "i = 2\n",
      "\n",
      "while i <= n:\n",
      "    while n % i == 0:\n",
      "        if n == i:\n",
      "            break\n",
      "        n = n / i\n",
      "    i = i + 1\n",
      "print prime_factors"
     ],
     "language": "python",
     "metadata": {},
     "outputs": [
      {
       "output_type": "stream",
       "stream": "stdout",
       "text": [
        "[2, 3, 5]\n"
       ]
      }
     ],
     "prompt_number": 94
    },
    {
     "cell_type": "code",
     "collapsed": false,
     "input": [
      "# create a list of primes up until N\n",
      "\n",
      "def createPrimeList(N):\n",
      "    lst = [2,]\n",
      "    test = 3\n",
      "    while len(lst) < N:\n",
      "        prime = True\n",
      "        for x in lst:\n",
      "            if x ** 2 > test:\n",
      "                break\n",
      "            if test % x == 0:\n",
      "                prime = False\n",
      "        if prime:\n",
      "            lst.append(test)\n",
      "        test = test + 1\n",
      "    return lst\n",
      "\n",
      "# print the smallest positive number divisible by each number 1 through N\n",
      "\n",
      "def euler5(N):\n",
      "    ans = 1\n",
      "    lst = createPrimeList(N)\n",
      "    for x in lst:\n",
      "        n = 1\n",
      "        while x ** n <= N:\n",
      "            n = n + 1\n",
      "        else: \n",
      "            n = n - 1\n",
      "        ans = ans * (x ** n)\n",
      "    return ans\n",
      "    \n",
      "        \n",
      "print euler5(20)\n",
      "        "
     ],
     "language": "python",
     "metadata": {},
     "outputs": [
      {
       "output_type": "stream",
       "stream": "stdout",
       "text": [
        "232792560\n"
       ]
      }
     ],
     "prompt_number": 94
    },
    {
     "cell_type": "markdown",
     "metadata": {},
     "source": [
      "6.list of composites up until N"
     ]
    },
    {
     "cell_type": "code",
     "collapsed": false,
     "input": [
      "# print a list of composites up until N and a list of primes up until N with a space between each other\n",
      "\n",
      "def comp_prime_list(N):\n",
      "    primes = [2,]\n",
      "    composites = []\n",
      "    test = 3\n",
      "    composite = False\n",
      "    while test <= N:\n",
      "        composite = False\n",
      "        for p in primes:\n",
      "            if test % p == 0:\n",
      "                composite = True\n",
      "        if composite:\n",
      "            composites.append(test)\n",
      "        else: \n",
      "            primes.append(test)\n",
      "        test = test + 1\n",
      "    return composites, primes\n",
      "\n",
      "lst1, lst2 = comp_prime_list(20)\n",
      "print lst1, lst2\n",
      "\n",
      "\n",
      "\n",
      "\n",
      "\n"
     ],
     "language": "python",
     "metadata": {},
     "outputs": [
      {
       "output_type": "stream",
       "stream": "stdout",
       "text": [
        "[4, 6, 8, 9, 10, 12, 14, 15, 16, 18, 20] [2, 3, 5, 7, 11, 13, 17, 19]\n"
       ]
      }
     ],
     "prompt_number": 95
    },
    {
     "cell_type": "code",
     "collapsed": false,
     "input": [
      "# Problem 6: Find the difference between the sum of the squares of the first one hundred natural numbers and the square of the sum.\n",
      "\n",
      "# first try\n",
      "sqofsum = [0]\n",
      "sumofsq = [0]\n",
      "\n",
      "for x in range(1, 101):\n",
      "    add = sumofsq[0] + x\n",
      "    sumofsq[0] = add\n",
      "final = sumofsq[0]\n",
      "sum_of_squares = final ** 2\n",
      "print sum_of_squares\n",
      "\n",
      "for x in range(1, 101):\n",
      "    square = sqofsum[0] + x ** 2\n",
      "    sqofsum[0] = square\n",
      "    n = n + 1\n",
      "square_of_sums = sqofsum[0]\n",
      "print part2\n",
      "print \"\\n\"\n",
      "print sum_of_squares - square_of_sums\n",
      "\n",
      "\n",
      "\n",
      "# way more efficient and less code\n",
      "\n",
      "sumsquare = 0\n",
      "squaresum = 0\n",
      "for x in range(1, 101):\n",
      "    sumsquare += x ** 2\n",
      "    squaresum += x\n",
      "squaresum = squaresum ** 2\n",
      "    \n",
      "print squaresum - sumsquare\n",
      "\n",
      "\n"
     ],
     "language": "python",
     "metadata": {},
     "outputs": [
      {
       "output_type": "stream",
       "stream": "stdout",
       "text": [
        "25502500\n",
        "338350\n",
        "\n",
        "\n",
        "25164150\n",
        "25164150\n"
       ]
      }
     ],
     "prompt_number": 96
    },
    {
     "cell_type": "code",
     "collapsed": false,
     "input": [
      "print createPrimeList(10001)[-1]"
     ],
     "language": "python",
     "metadata": {},
     "outputs": [
      {
       "output_type": "stream",
       "stream": "stdout",
       "text": [
        "104743\n"
       ]
      }
     ],
     "prompt_number": 99
    },
    {
     "cell_type": "code",
     "collapsed": false,
     "input": [
      "# Find the thirteen adjacent digits in the 1000-digit number that have the greatest product. What is the value of this product?\n",
      "\n",
      "n = 73167176531330624919225119674426574742355349194934\\\n",
      "96983520312774506326239578318016984801869478851843\\\n",
      "85861560789112949495459501737958331952853208805511\\\n",
      "12540698747158523863050715693290963295227443043557\\\n",
      "66896648950445244523161731856403098711121722383113\\\n",
      "62229893423380308135336276614282806444486645238749\\\n",
      "30358907296290491560440772390713810515859307960866\\\n",
      "70172427121883998797908792274921901699720888093776\\\n",
      "65727333001053367881220235421809751254540594752243\\\n",
      "52584907711670556013604839586446706324415722155397\\\n",
      "53697817977846174064955149290862569321978468622482\\\n",
      "83972241375657056057490261407972968652414535100474\\\n",
      "82166370484403199890008895243450658541227588666881\\\n",
      "16427171479924442928230863465674813919123162824586\\\n",
      "17866458359124566529476545682848912883142607690042\\\n",
      "24219022671055626321111109370544217506941658960408\\\n",
      "07198403850962455444362981230987879927244284909188\\\n",
      "84580156166097919133875499200524063689912560717606\\\n",
      "05886116467109405077541002256983155200055935729725\\\n",
      "71636269561882670428252483600823257530420752963450\n",
      "\n",
      "\n",
      "n_string = str(n)\n",
      "test = 1\n",
      "prod = []\n",
      "i = 0\n",
      "\n",
      "while i <= 987:\n",
      "    test = 1\n",
      "    for x in n_string[i: i + 13]:\n",
      "        test = test * int(x)\n",
      "    if test == 0:\n",
      "        i += 13\n",
      "    else:\n",
      "        prod.append(test)\n",
      "        i += 1\n",
      "print max(prod)\n",
      "\n",
      "\n",
      "    \n",
      "    \n",
      "    \n",
      "\n",
      "\n"
     ],
     "language": "python",
     "metadata": {},
     "outputs": [
      {
       "output_type": "stream",
       "stream": "stdout",
       "text": [
        "23514624000\n"
       ]
      }
     ],
     "prompt_number": 143
    },
    {
     "cell_type": "code",
     "collapsed": false,
     "input": [],
     "language": "python",
     "metadata": {},
     "outputs": []
    }
   ],
   "metadata": {}
  }
 ]
}