{
 "metadata": {
  "name": ""
 },
 "nbformat": 3,
 "nbformat_minor": 0,
 "worksheets": [
  {
   "cells": [
    {
     "cell_type": "code",
     "collapsed": false,
     "input": [
      "import numpy  \n",
      "    \n",
      "def random_walks(w, s):\n",
      "    mdl = []\n",
      "    \n",
      "    for x in range(w):\n",
      "        a = numpy.random.rand(s)\n",
      "        for y in range(s):\n",
      "            if a[y] > 0.5:\n",
      "                a[y] = 1\n",
      "            elif a[y] <= 0.5:\n",
      "                a[y] = -1\n",
      "        mdl.append(a)\n",
      "    return mdl"
     ],
     "language": "python",
     "metadata": {},
     "outputs": [],
     "prompt_number": 1
    },
    {
     "cell_type": "code",
     "collapsed": false,
     "input": [
      "import numpy\n",
      "def random_walks_lst_comp(w, s): \n",
      "    mdl = []\n",
      "    for x in range(w):\n",
      "        mdl.append([1 if num > 0.5 else -1 for num in numpy.random.rand(s)])\n",
      "    return mdl"
     ],
     "language": "python",
     "metadata": {},
     "outputs": [],
     "prompt_number": 2
    },
    {
     "cell_type": "code",
     "collapsed": false,
     "input": [
      "print random_walks(2, 7)\n",
      "print \"\\n\\n\\n\"\n",
      "print random_walks_lst_comp(2, 7)"
     ],
     "language": "python",
     "metadata": {},
     "outputs": [
      {
       "output_type": "stream",
       "stream": "stdout",
       "text": [
        "[array([ 1.,  1., -1.,  1., -1., -1., -1.]), array([-1., -1., -1.,  1.,  1.,  1., -1.])]\n",
        "\n",
        "\n",
        "\n",
        "\n",
        "[[1, 1, -1, -1, 1, 1, 1], [-1, -1, 1, -1, 1, 1, 1]]\n"
       ]
      }
     ],
     "prompt_number": 3
    },
    {
     "cell_type": "code",
     "collapsed": false,
     "input": [],
     "language": "python",
     "metadata": {},
     "outputs": []
    }
   ],
   "metadata": {}
  }
 ]
}