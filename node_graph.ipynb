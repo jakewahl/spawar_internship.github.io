{
 "metadata": {
  "name": ""
 },
 "nbformat": 3,
 "nbformat_minor": 0,
 "worksheets": [
  {
   "cells": [
    {
     "cell_type": "code",
     "collapsed": false,
     "input": [
      "d = {0:[1], 1:[0,2,3], 2:[1,3], 3:[2]}\n",
      "\n",
      "import numpy\n",
      "\n",
      "def create_adjacent(d):\n",
      "   \n",
      "    a = numpy.zeros((4, 4))\n",
      "    for key,value in d.iteritems():\n",
      "        for v in value:\n",
      "            a[key][v] = 1\n",
      "    return a\n",
      "            \n",
      "print create_adjacent(d)        \n",
      "  "
     ],
     "language": "python",
     "metadata": {},
     "outputs": [
      {
       "output_type": "stream",
       "stream": "stdout",
       "text": [
        "[[ 0.  1.  0.  0.]\n",
        " [ 1.  0.  1.  1.]\n",
        " [ 0.  1.  0.  1.]\n",
        " [ 0.  0.  1.  0.]]\n"
       ]
      }
     ],
     "prompt_number": 35
    },
    {
     "cell_type": "code",
     "collapsed": false,
     "input": [
      "d = {0:[1], 1:[0,2,3], 2:[1,3], 3:[2]}\n",
      "\n",
      "def degree_lst(d):\n",
      "    a = numpy.zeros((4,4))\n",
      "    #list\n",
      "    b = []\n",
      "    for key,value in d.iteritems():\n",
      "            a[key][key] = len(value)\n",
      "            #add to list\n",
      "            b.append(len(value))\n",
      "    return b\n",
      "print degree_lst(d)\n",
      "\n",
      "        "
     ],
     "language": "python",
     "metadata": {},
     "outputs": [
      {
       "output_type": "stream",
       "stream": "stdout",
       "text": [
        "[1, 3, 2, 1]\n"
       ]
      }
     ],
     "prompt_number": 43
    },
    {
     "cell_type": "code",
     "collapsed": false,
     "input": [
      "d = {0:[1], 1:[0,2,3], 2:[1,3], 3:[2]}\n",
      "\n",
      "l = degree_lst(d)\n",
      "\n",
      "def get_connected(l, n):\n",
      "    connected = []\n",
      "    for i,v in enumerate(l):\n",
      "        if v == n:\n",
      "            connected.append(i)\n",
      "    return connected\n",
      "print get_connected(l, 1)\n",
      "\n",
      "\n",
      "    \n",
      "    "
     ],
     "language": "python",
     "metadata": {},
     "outputs": [
      {
       "output_type": "stream",
       "stream": "stdout",
       "text": [
        "[0, 3]\n"
       ]
      }
     ],
     "prompt_number": 48
    },
    {
     "cell_type": "code",
     "collapsed": false,
     "input": [
      "[i for i, v in enumerate(l) if v==1]"
     ],
     "language": "python",
     "metadata": {},
     "outputs": [
      {
       "metadata": {},
       "output_type": "pyout",
       "prompt_number": 51,
       "text": [
        "[0, 3]"
       ]
      }
     ],
     "prompt_number": 51
    },
    {
     "cell_type": "code",
     "collapsed": false,
     "input": [
      "l1 = range(5)\n",
      "l2 = range(10,20,2)\n",
      "{k:v for k,v in zip(l1,l2)}"
     ],
     "language": "python",
     "metadata": {},
     "outputs": [
      {
       "metadata": {},
       "output_type": "pyout",
       "prompt_number": 55,
       "text": [
        "{0: 10, 1: 12, 2: 14, 3: 16, 4: 18}"
       ]
      }
     ],
     "prompt_number": 55
    },
    {
     "cell_type": "code",
     "collapsed": false,
     "input": [
      "import math\n",
      "N = 10 \n",
      "sum(1.0/math.factorial(n) for n in xrange(N)) - math.e"
     ],
     "language": "python",
     "metadata": {},
     "outputs": [
      {
       "metadata": {},
       "output_type": "pyout",
       "prompt_number": 66,
       "text": [
        "-3.0288585284310443e-07"
       ]
      }
     ],
     "prompt_number": 66
    },
    {
     "cell_type": "code",
     "collapsed": false,
     "input": [],
     "language": "python",
     "metadata": {},
     "outputs": []
    }
   ],
   "metadata": {}
  }
 ]
}